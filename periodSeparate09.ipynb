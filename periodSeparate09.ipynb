{
 "cells": [
  {
   "cell_type": "code",
   "execution_count": 2,
   "metadata": {
    "collapsed": true
   },
   "outputs": [],
   "source": [
    "def printTitle():\n",
    "    import os\n",
    "    files = []\n",
    "    for k in os.listdir('.'):\n",
    "        if os.path.isfile(k):\n",
    "            files.append(k)\n",
    "    for f in files:\n",
    "        if '日報表' in f:\n",
    "            print f\n",
    "    "
   ]
  },
  {
   "cell_type": "code",
   "execution_count": null,
   "metadata": {
    "collapsed": false
   },
   "outputs": [],
   "source": []
  },
  {
   "cell_type": "code",
   "execution_count": 4,
   "metadata": {
    "collapsed": true
   },
   "outputs": [],
   "source": [
    "# ---------設定字的格式\n",
    "def set_style(name,height,bold=False):\n",
    "    import xlwt\n",
    "    style = xlwt.XFStyle() # 初始化样式\n",
    "    font = xlwt.Font() # 为样式创建字体                    \n",
    "    font.name = name # 'Times New Roman'\n",
    "    font.bold = bold\n",
    "    font.color_index = 4\n",
    "    font.height = height\n",
    "    # borders= xlwt.Borders()\n",
    "    # borders.left= 6\n",
    "    # borders.right= 6\n",
    "    # borders.top= 6\n",
    "    # borders.bottom= 6\n",
    "    style.font = font  # style.borders = borders\n",
    "    return style\n",
    "# ---------"
   ]
  },
  {
   "cell_type": "code",
   "execution_count": 10,
   "metadata": {
    "collapsed": true
   },
   "outputs": [],
   "source": [
    "#讀取內湖資料只抓出設定之內湖區各時段分開的街道資料，將三個時段資料存成三個資料夾（上/下/全日）。\n",
    "# -*- coding: utf-8 -*-\n",
    "def writePeriod09():\n",
    "    import os\n",
    "    files = []\n",
    "    for f in os.listdir('.'):\n",
    "            if os.path.isfile(f):\n",
    "                    files.append(f)\n",
    "    for f in files:\n",
    "        if '日報表' in f:\n",
    "            import xlrd,xlwt\n",
    "            wbk = xlwt.Workbook()\n",
    "            data = xlrd.open_workbook(f)\n",
    "            sheet = wbk.add_sheet('sheet1',cell_overwrite_ok=True)\n",
    "            table = data.sheets()[0]\n",
    "            \n",
    "            j=0\n",
    "            for i in range(0,57,+3):#只取上午時段\n",
    "                \n",
    "                rows = table.row_values(i)\n",
    "                j+=1\n",
    "                for ele in range(0,len(rows)):\n",
    "                    sheet.write(j-1,ele,rows[ele],set_style('Times News Romans',200,True))\n",
    "                \n",
    "      \n",
    "            \n",
    "            sheet.write(j,5,\"=SUM(F1:F19)\")\n",
    "\n",
    "\n",
    "            # print len(rows)\n",
    "            # for ele in rows:\n",
    "            #     print ele\n",
    "            # sheet.write(0,1,table)\n",
    "            wbk.save('上午時段/'+f)\n",
    "            \n",
    "#     下午時段        \n",
    "    files = []\n",
    "    for f in os.listdir('.'):\n",
    "            if os.path.isfile(f):\n",
    "                    files.append(f)\n",
    "    for f in files:\n",
    "        if '日報表' in f:\n",
    "            import xlrd,xlwt\n",
    "            wbk = xlwt.Workbook()\n",
    "            data = xlrd.open_workbook(f)\n",
    "            sheet = wbk.add_sheet('sheet1',cell_overwrite_ok=True)\n",
    "            table = data.sheets()[0]\n",
    "            \n",
    "            j=0\n",
    "            for i in range(1,57,+3):#只取上午時段\n",
    "                \n",
    "                rows = table.row_values(i)\n",
    "                j+=1\n",
    "                for ele in range(0,len(rows)):\n",
    "                    sheet.write(j-1,ele,rows[ele],set_style('Times News Romans',200,True))\n",
    "                \n",
    "      \n",
    "            \n",
    "            sheet.write(j,5,\"=SUM(F1:F19)\")\n",
    "\n",
    "\n",
    "            # print len(rows)\n",
    "            # for ele in rows:\n",
    "            #     print ele\n",
    "            # sheet.write(0,1,table)\n",
    "            wbk.save('下午時段/'+f)\n",
    "            \n",
    "            \n",
    "#      全日時段        \n",
    "    files = []\n",
    "    for f in os.listdir('.'):\n",
    "            if os.path.isfile(f):\n",
    "                    files.append(f)\n",
    "    for f in files:\n",
    "        if '日報表' in f:\n",
    "            import xlrd,xlwt\n",
    "            wbk = xlwt.Workbook()\n",
    "            data = xlrd.open_workbook(f)\n",
    "            sheet = wbk.add_sheet('sheet1',cell_overwrite_ok=True)\n",
    "            table = data.sheets()[0]\n",
    "            \n",
    "            j=0\n",
    "            for i in range(2,57,+3):#只取上午時段\n",
    "                \n",
    "                rows = table.row_values(i)\n",
    "                j+=1\n",
    "                for ele in range(0,len(rows)):\n",
    "                    sheet.write(j-1,ele,rows[ele],set_style('Times News Romans',200,True))\n",
    "                \n",
    "      \n",
    "            \n",
    "            sheet.write(j,5,\"=SUM(F1:F19)\")\n",
    "\n",
    "\n",
    "            # print len(rows)\n",
    "            # for ele in rows:\n",
    "            #     print ele\n",
    "            # sheet.write(0,1,table)\n",
    "            wbk.save('全日時段/'+f)\n"
   ]
  },
  {
   "cell_type": "code",
   "execution_count": 11,
   "metadata": {
    "collapsed": false
   },
   "outputs": [],
   "source": [
    "writePeriod09()"
   ]
  },
  {
   "cell_type": "code",
   "execution_count": null,
   "metadata": {
    "collapsed": true
   },
   "outputs": [],
   "source": []
  },
  {
   "cell_type": "code",
   "execution_count": 12,
   "metadata": {
    "collapsed": true
   },
   "outputs": [],
   "source": [
    "#  把抓出來的內湖區的資料，取檔案日期跟當日所有路段的當量做總和，在寫成一個csv檔\n",
    "\n",
    "def periodVolume09():\n",
    "    # -*- coding: utf-8 -*-\n",
    "    import os,re\n",
    "    import csv\n",
    "#     上午\n",
    "    newcsv = open('上午時段/上午.csv','w')\n",
    "    files = []\n",
    "    for f in os.listdir('.'):\n",
    "        files.append(f)\n",
    "    for f in files:\n",
    "        if '日報表' in f:\n",
    "            import xlrd,xlwt\n",
    "            wbk = xlwt.Workbook()\n",
    "            data = xlrd.open_workbook('上午時段/'+f)\n",
    "            table = data.sheets()[0]\n",
    "            cols = table.col_values(5)\n",
    "            sumall = 0\n",
    "            for i in range(0,len(cols)-1):\n",
    "            #print cols[i]\n",
    "                sumall += float(cols[i])\n",
    "            match = re.findall('[0-9]+.[0-9]+.[0-9]+',f)\n",
    "#             print str(match[0]) , str(sumall) # 解開註解可以印出來看 \n",
    "            newcsv.write(str(match[0])+','+str(sumall)+'\\n')\n",
    "    newcsv.close()\n",
    "    \n",
    "#     下午\n",
    "    newcsv = open('下午時段/下午.csv','w')\n",
    "    files = []\n",
    "    for f in os.listdir('.'):\n",
    "        files.append(f)\n",
    "    for f in files:\n",
    "        if '日報表' in f:\n",
    "            import xlrd,xlwt\n",
    "            wbk = xlwt.Workbook()\n",
    "            data = xlrd.open_workbook('下午時段/'+f)\n",
    "            table = data.sheets()[0]\n",
    "            cols = table.col_values(5)\n",
    "            sumall = 0\n",
    "            for i in range(0,len(cols)-1):\n",
    "            #print cols[i]\n",
    "                sumall += float(cols[i])\n",
    "            match = re.findall('[0-9]+.[0-9]+.[0-9]+',f)\n",
    "#             print str(match[0]) , str(sumall) # 解開註解可以印出來看 \n",
    "            newcsv.write(str(match[0])+','+str(sumall)+'\\n')\n",
    "    newcsv.close()\n",
    "    \n",
    "#     全日\n",
    "\n",
    "    newcsv = open('全日時段/全日.csv','w')\n",
    "    files = []\n",
    "    for f in os.listdir('.'):\n",
    "        files.append(f)\n",
    "    for f in files:\n",
    "        if '日報表' in f:\n",
    "            import xlrd,xlwt\n",
    "            wbk = xlwt.Workbook()\n",
    "            data = xlrd.open_workbook('全日時段/'+f)\n",
    "            table = data.sheets()[0]\n",
    "            cols = table.col_values(5)\n",
    "            sumall = 0\n",
    "            for i in range(0,len(cols)-1):\n",
    "            #print cols[i]\n",
    "                sumall += float(cols[i])\n",
    "            match = re.findall('[0-9]+.[0-9]+.[0-9]+',f)\n",
    "#             print str(match[0]) , str(sumall) # 解開註解可以印出來看 \n",
    "            newcsv.write(str(match[0])+','+str(sumall)+'\\n')\n",
    "    newcsv.close()"
   ]
  },
  {
   "cell_type": "code",
   "execution_count": 13,
   "metadata": {
    "collapsed": true
   },
   "outputs": [],
   "source": [
    "periodVolume09()"
   ]
  },
  {
   "cell_type": "code",
   "execution_count": null,
   "metadata": {
    "collapsed": true
   },
   "outputs": [],
   "source": []
  },
  {
   "cell_type": "code",
   "execution_count": null,
   "metadata": {
    "collapsed": true
   },
   "outputs": [],
   "source": []
  },
  {
   "cell_type": "code",
   "execution_count": null,
   "metadata": {
    "collapsed": true
   },
   "outputs": [],
   "source": []
  },
  {
   "cell_type": "code",
   "execution_count": null,
   "metadata": {
    "collapsed": true
   },
   "outputs": [],
   "source": []
  },
  {
   "cell_type": "code",
   "execution_count": null,
   "metadata": {
    "collapsed": true
   },
   "outputs": [],
   "source": []
  },
  {
   "cell_type": "code",
   "execution_count": null,
   "metadata": {
    "collapsed": true
   },
   "outputs": [],
   "source": []
  }
 ],
 "metadata": {
  "anaconda-cloud": {},
  "kernelspec": {
   "display_name": "Python [Root]",
   "language": "python",
   "name": "Python [Root]"
  },
  "language_info": {
   "codemirror_mode": {
    "name": "ipython",
    "version": 2
   },
   "file_extension": ".py",
   "mimetype": "text/x-python",
   "name": "python",
   "nbconvert_exporter": "python",
   "pygments_lexer": "ipython2",
   "version": "2.7.12"
  }
 },
 "nbformat": 4,
 "nbformat_minor": 0
}
