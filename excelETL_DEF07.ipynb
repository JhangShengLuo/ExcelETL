{
 "cells": [
  {
   "cell_type": "code",
   "execution_count": 40,
   "metadata": {
    "collapsed": false
   },
   "outputs": [],
   "source": [
    "def printTitle():\n",
    "    import os\n",
    "    files = []\n",
    "    for k in os.listdir('.'):\n",
    "        if os.path.isfile(k):\n",
    "            files.append(k)\n",
    "    for f in files:\n",
    "        if '日報表' in f:\n",
    "            print f\n",
    "    "
   ]
  },
  {
   "cell_type": "code",
   "execution_count": 41,
   "metadata": {
    "collapsed": false
   },
   "outputs": [
    {
     "name": "stdout",
     "output_type": "stream",
     "text": [
      "日報表105.07.06.xls\n",
      "日報表105.07.07.xls\n",
      "日報表105.07.10.xls\n",
      "日報表105.07.11.xls\n",
      "日報表105.07.12.xls\n",
      "日報表105.07.13.xls\n",
      "日報表105.07.14.xls\n",
      "日報表105.07.15.xls\n",
      "日報表105.07.16.xls\n",
      "日報表105.07.17.xls\n"
     ]
    }
   ],
   "source": [
    "printTitle()"
   ]
  },
  {
   "cell_type": "code",
   "execution_count": 42,
   "metadata": {
    "collapsed": true
   },
   "outputs": [],
   "source": [
    "# ---------設定字的格式\n",
    "def set_style(name,height,bold=False):\n",
    "    import xlwt\n",
    "    style = xlwt.XFStyle() # 初始化样式\n",
    "    font = xlwt.Font() # 为样式创建字体                    \n",
    "    font.name = name # 'Times New Roman'\n",
    "    font.bold = bold\n",
    "    font.color_index = 4\n",
    "    font.height = height\n",
    "    # borders= xlwt.Borders()\n",
    "    # borders.left= 6\n",
    "    # borders.right= 6\n",
    "    # borders.top= 6\n",
    "    # borders.bottom= 6\n",
    "    style.font = font  # style.borders = borders\n",
    "    return style\n",
    "# ---------"
   ]
  },
  {
   "cell_type": "code",
   "execution_count": 43,
   "metadata": {
    "collapsed": true
   },
   "outputs": [],
   "source": [
    "#讀取北市Excel資料只抓出我所設定之內湖區的街道資料\n",
    "def writePart07():\n",
    "    import os\n",
    "    files = []\n",
    "    for f in os.listdir('.'):\n",
    "            if os.path.isfile(f):\n",
    "                    files.append(f)\n",
    "    for f in files:\n",
    "        if '日報表' in f:\n",
    "            import xlrd,xlwt\n",
    "            wbk = xlwt.Workbook()\n",
    "            data = xlrd.open_workbook(f)\n",
    "            sheet = wbk.add_sheet('sheet1',cell_overwrite_ok=True)\n",
    "            table = data.sheets()[1]\n",
    "            j=0\n",
    "            for i in range(775,781): #民權東路六則\n",
    "                rows = table.row_values(i)\n",
    "                j+=1\n",
    "                for ele in range(0,len(rows)):\n",
    "                    sheet.write(j-1,ele,rows[ele],set_style('Times News Roman',200,True))\n",
    "            for k in range(1252,1303):  #堤頂大道到舊宗路\n",
    "                rows = table.row_values(k)\n",
    "                j+=1\n",
    "                for ele in range(0,len(rows)):\n",
    "                    sheet.write(j-1,ele,rows[ele],set_style('Times News Roman',200,True))\n",
    "            sheet.write(j,5,\"=SUM(F1:F57)\")\n",
    "            # print len(rows)\n",
    "            # for ele in rows:\n",
    "            #     print ele\n",
    "            # sheet.write(0,1,table)\n",
    "            wbk.save('okay/'+f)\n"
   ]
  },
  {
   "cell_type": "code",
   "execution_count": 44,
   "metadata": {
    "collapsed": false
   },
   "outputs": [],
   "source": [
    "writePart07()"
   ]
  },
  {
   "cell_type": "code",
   "execution_count": 47,
   "metadata": {
    "collapsed": true
   },
   "outputs": [],
   "source": [
    "#  把抓出來的內湖區的資料，取檔案日期跟當日所有路段的當量做總和，在寫成一個csv檔\n",
    "\n",
    "def dateAndVolume07():\n",
    "    # -*- coding: utf-8 -*-\n",
    "    import os,re\n",
    "    import csv\n",
    "    newcsv = open('total07.csv','w')\n",
    "    files = []\n",
    "    for f in os.listdir('.'):\n",
    "        files.append(f)\n",
    "    for f in files:\n",
    "        if '日報表' in f:\n",
    "            import xlrd,xlwt\n",
    "            wbk = xlwt.Workbook()\n",
    "            data = xlrd.open_workbook('okay/'+f)\n",
    "            table = data.sheets()[0]\n",
    "            cols = table.col_values(5)\n",
    "            sumall = 0\n",
    "            for i in range(0,len(cols)-1):\n",
    "            #print cols[i]\n",
    "                sumall += float(cols[i])\n",
    "            match = re.findall('[0-9]+.[0-9]+.[0-9]+',f)\n",
    "#             print str(match[0]) , str(sumall) # 解開註解可以印出來看 \n",
    "            newcsv.write(str(match[0])+','+str(sumall)+'\\n')\n",
    "    newcsv.close()"
   ]
  },
  {
   "cell_type": "code",
   "execution_count": 48,
   "metadata": {
    "collapsed": false
   },
   "outputs": [],
   "source": [
    "dateAndVolume07()"
   ]
  },
  {
   "cell_type": "code",
   "execution_count": null,
   "metadata": {
    "collapsed": true
   },
   "outputs": [],
   "source": []
  }
 ],
 "metadata": {
  "kernelspec": {
   "display_name": "Python [Root]",
   "language": "python",
   "name": "Python [Root]"
  },
  "language_info": {
   "codemirror_mode": {
    "name": "ipython",
    "version": 2
   },
   "file_extension": ".py",
   "mimetype": "text/x-python",
   "name": "python",
   "nbconvert_exporter": "python",
   "pygments_lexer": "ipython2",
   "version": "2.7.12"
  }
 },
 "nbformat": 4,
 "nbformat_minor": 0
}
