{
 "cells": [
  {
   "cell_type": "code",
   "execution_count": 64,
   "metadata": {
    "collapsed": false
   },
   "outputs": [],
   "source": [
    "import io\n",
    "import csv\n",
    "\n",
    "morning = open('上午.csv','rU')\n",
    "noon = open('下午.csv','rU')\n",
    "twoPeriod = open('上下午.csv','w')\n",
    "\n",
    "# 上午\n",
    "mrlist = []\n",
    "mr = csv.reader(morning,delimiter=' ')\n",
    "for mrow in mr:\n",
    "    mrlist.append(mrow)\n",
    "    \n",
    "\n",
    "# 下午\n",
    "nrlist = []\n",
    "nr = csv.reader(noon,delimiter=' ')\n",
    "for nrow in nr:\n",
    "    nrlist.append(nrow)\n",
    "    \n",
    "# print len(nrlist)\n",
    "    \n",
    "\n",
    "for i in range(0,len(mrlist)):\n",
    "#     print nrlist[i][0]\n",
    "    twoPeriod.write(mrlist[i][0])\n",
    "    twoPeriod.write('\\n')\n",
    "    \n",
    "    twoPeriod.write(nrlist[i][0])\n",
    "    twoPeriod.write('\\n')\n",
    "    \n",
    "    \n",
    "    \n",
    "morning.close()\n",
    "noon.close()\n",
    "twoPeriod.close()\n"
   ]
  },
  {
   "cell_type": "code",
   "execution_count": null,
   "metadata": {
    "collapsed": true
   },
   "outputs": [],
   "source": []
  },
  {
   "cell_type": "code",
   "execution_count": null,
   "metadata": {
    "collapsed": true
   },
   "outputs": [],
   "source": []
  }
 ],
 "metadata": {
  "anaconda-cloud": {},
  "kernelspec": {
   "display_name": "Python [Root]",
   "language": "python",
   "name": "Python [Root]"
  },
  "language_info": {
   "codemirror_mode": {
    "name": "ipython",
    "version": 2
   },
   "file_extension": ".py",
   "mimetype": "text/x-python",
   "name": "python",
   "nbconvert_exporter": "python",
   "pygments_lexer": "ipython2",
   "version": "2.7.12"
  }
 },
 "nbformat": 4,
 "nbformat_minor": 0
}
