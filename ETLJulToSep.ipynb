{
 "cells": [
  {
   "cell_type": "code",
   "execution_count": null,
   "metadata": {
    "collapsed": true
   },
   "outputs": [],
   "source": []
  },
  {
   "cell_type": "code",
   "execution_count": null,
   "metadata": {
    "collapsed": true
   },
   "outputs": [],
   "source": [
    "cur_path = os.getcwd()#得知目前路徑\n",
    "\n",
    "\n",
    "for subdir, dirs, files in os.walk(cur_path+'/okay'): \n",
    "    for f in files:\n",
    "        print f\n",
    "\n",
    "            # 得到檔案名稱 file"
   ]
  },
  {
   "cell_type": "code",
   "execution_count": 75,
   "metadata": {
    "collapsed": false
   },
   "outputs": [],
   "source": [
    "import os\n",
    "files = []\n",
    "\n",
    "for f in os.listdir('.'):\n",
    "        if os.path.isfile(f):\n",
    "                files.append(f)\n",
    "for f in files:\n",
    "    if '日報表' in f:\n",
    "        import xlrd,xlwt\n",
    "        wbk = xlwt.Workbook()\n",
    "        # \n",
    "        data = xlrd.open_workbook(f)\n",
    "        sheet = wbk.add_sheet('sheet1',cell_overwrite_ok=True)\n",
    "\n",
    "        # ---------設定字的格式\n",
    "\n",
    "        def set_style(name,height,bold=False):\n",
    "            style = xlwt.XFStyle() # 初始化样式\n",
    "\n",
    "            font = xlwt.Font() # 为样式创建字体\n",
    "            font.name = name # 'Times New Roman'\n",
    "            font.bold = bold\n",
    "            font.color_index = 4\n",
    "            font.height = height\n",
    "\n",
    "            # borders= xlwt.Borders()\n",
    "            # borders.left= 6\n",
    "            # borders.right= 6\n",
    "            # borders.top= 6\n",
    "            # borders.bottom= 6\n",
    "\n",
    "            style.font = font  # style.borders = borders\n",
    "\n",
    "            return style\n",
    "\n",
    "\n",
    "        # ---------\n",
    "\n",
    "\n",
    "        table = data.sheet_by_name(u'日報表詳表')\n",
    "        j=0\n",
    "        for i in range(775,781):\n",
    "\n",
    "            rows = table.row_values(i)\n",
    "            j+=1\n",
    "            for ele in range(0,len(rows)):\n",
    "                sheet.write(j-1,ele,rows[ele],set_style('Times News Roman',200,True))\n",
    "\n",
    "\n",
    "        for k in range(1252,1303):\n",
    "            rows = table.row_values(k)\n",
    "            j+=1\n",
    "            for ele in range(0,len(rows)):\n",
    "                sheet.write(j-1,ele,rows[ele],set_style('Times News Roman',200,True))\n",
    "                \n",
    "                \n",
    "        sheet.write(j,5,\"=SUM(F1:F57)\")\n",
    "        \n",
    "        \n",
    "        # print len(rows)\n",
    "        # for ele in rows:\n",
    "        #     print ele\n",
    "\n",
    "\n",
    "\n",
    "        # sheet.write(0,1,table)\n",
    "        wbk.save('okay/'+f)"
   ]
  },
  {
   "cell_type": "code",
   "execution_count": 51,
   "metadata": {
    "collapsed": false
   },
   "outputs": [
    {
     "name": "stdout",
     "output_type": "stream",
     "text": [
      ".DS_Store\n",
      "日報表105.07.19.xls\n"
     ]
    }
   ],
   "source": [
    "import os\n",
    "\n",
    "\n",
    "for f in os.listdir(track):\n",
    "for f in files:\n",
    "    print f"
   ]
  },
  {
   "cell_type": "code",
   "execution_count": 22,
   "metadata": {
    "collapsed": false
   },
   "outputs": [
    {
     "name": "stdout",
     "output_type": "stream",
     "text": [
      ".DS_Store\n",
      "日報表105.07.19.xls\n"
     ]
    }
   ],
   "source": [
    "import os\n",
    "files = []\n",
    "\n",
    "for f in os.listdir('./okay'):\n",
    "    files.append(f)\n",
    "for f in files:\n",
    "    print f"
   ]
  },
  {
   "cell_type": "code",
   "execution_count": 85,
   "metadata": {
    "collapsed": false
   },
   "outputs": [
    {
     "name": "stdout",
     "output_type": "stream",
     "text": [
      "105.07.19 303131.553258\n",
      "105.07.20 299682.549315\n",
      "105.07.21 313938.105726\n",
      "105.07.22 319431.173228\n",
      "105.07.23 243435.448368\n",
      "105.07.24 214527.11758\n",
      "105.07.25 299335.192621\n",
      "105.07.26 303078.32459\n",
      "105.07.27 309322.025392\n",
      "105.07.28 308837.769061\n",
      "105.07.29 307587.114772\n",
      "105.07.30 247211.590775\n",
      "105.07.31 213969.035176\n",
      "105.08.01 277838.285954\n",
      "105.08.02 304216.695165\n",
      "105.08.03 296482.299021\n",
      "105.08.04 292246.915985\n",
      "105.08.05 306558.167264\n",
      "105.08.07 217602.811615\n",
      "105.08.10 282154.659821\n",
      "105.08.11 309537.410503\n",
      "105.08.12 308603.883169\n",
      "105.08.13 246501.283414\n",
      "105.08.14 217137.012334\n",
      "105.08.15 308629.874534\n",
      "105.08.16 319039.641545\n",
      "105.08.17 283535.978475\n",
      "105.08.18 286181.19093\n",
      "105.08.19 333631.413825\n",
      "105.08.20 243078.533691\n",
      "105.08.21 226440.076877\n",
      "105.08.22 278935.436438\n",
      "105.08.23 310672.874601\n",
      "105.08.24 319305.344317\n",
      "105.08.25 310812.704817\n",
      "105.08.26 331235.138109\n",
      "105.08.27 254468.042773\n",
      "105.08.28 225958.379356\n",
      "105.08.29 316185.400321\n",
      "105.08.30 325115.878572\n",
      "105.08.31 327462.519029\n",
      "105.09.01 329501.828389\n",
      "105.09.02 333788.525248\n",
      "105.09.03 272721.474138\n",
      "105.09.04 232994.040029\n",
      "105.09.05 324827.429924\n",
      "105.09.06 323822.688755\n",
      "105.09.07 336149.704651\n",
      "105.09.10 323378.499995\n",
      "105.09.11 238494.796066\n",
      "105.09.12 343636.931309\n",
      "105.09.13 356269.001628\n",
      "105.09.14 343405.908463\n",
      "105.09.15 211186.400877\n",
      "105.09.16 214911.843933\n",
      "105.09.17 159769.288289\n",
      "105.09.18 209866.029314\n"
     ]
    }
   ],
   "source": [
    "# -*- coding: utf-8 -*-\n",
    "import os,re\n",
    "import csv\n",
    "newcsv = open('total.csv','w')\n",
    "files = []\n",
    "\n",
    "for f in os.listdir('.'):\n",
    "\n",
    "    files.append(f)\n",
    "for f in files:\n",
    "        \n",
    "        if '日報表' in f:\n",
    "            import xlrd,xlwt\n",
    "            wbk = xlwt.Workbook()\n",
    "            # \n",
    "            data = xlrd.open_workbook('okay/'+f)\n",
    "        \n",
    "            table = data.sheets()[0]\n",
    "\n",
    "            cols = table.col_values(5)\n",
    "            sumall = 0\n",
    "            for i in range(0,len(cols)-1):\n",
    "\n",
    "#                 print cols[i]\n",
    "                sumall += float(cols[i])\n",
    "    \n",
    "            \n",
    "    \n",
    "    \n",
    "            match = re.findall('[0-9]+.[0-9]+.[0-9]+',f)\n",
    "            \n",
    "            \n",
    "    \n",
    "            print str(match[0]) , str(sumall)\n",
    "            newcsv.write(str(match[0])+','+str(sumall)+'\\n')\n",
    "newcsv.close()\n",
    "\n",
    "    #         \n",
    "            "
   ]
  },
  {
   "cell_type": "code",
   "execution_count": 69,
   "metadata": {
    "collapsed": false
   },
   "outputs": [
    {
     "name": "stdout",
     "output_type": "stream",
     "text": [
      "['1283787.09.99']\n"
     ]
    }
   ],
   "source": [
    "# -*- coding: utf-8 -*-\n",
    "import csv\n",
    "f = open('example.csv', 'w')\n",
    "for row in csv.reader(f):\n",
    "    print row\n",
    "f.close()"
   ]
  },
  {
   "cell_type": "code",
   "execution_count": null,
   "metadata": {
    "collapsed": true
   },
   "outputs": [],
   "source": []
  },
  {
   "cell_type": "code",
   "execution_count": null,
   "metadata": {
    "collapsed": true
   },
   "outputs": [],
   "source": []
  }
 ],
 "metadata": {
  "anaconda-cloud": {},
  "kernelspec": {
   "display_name": "Python [Root]",
   "language": "python",
   "name": "Python [Root]"
  },
  "language_info": {
   "codemirror_mode": {
    "name": "ipython",
    "version": 2
   },
   "file_extension": ".py",
   "mimetype": "text/x-python",
   "name": "python",
   "nbconvert_exporter": "python",
   "pygments_lexer": "ipython2",
   "version": "2.7.12"
  }
 },
 "nbformat": 4,
 "nbformat_minor": 0
}
