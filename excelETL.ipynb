{
 "cells": [
  {
   "cell_type": "code",
   "execution_count": 43,
   "metadata": {
    "collapsed": false
   },
   "outputs": [
    {
     "name": "stdout",
     "output_type": "stream",
     "text": [
      "日報表105.07.06.xls\n",
      "日報表105.07.07.xls\n",
      "日報表105.07.10.xls\n",
      "日報表105.07.11.xls\n",
      "日報表105.07.12.xls\n",
      "日報表105.07.13.xls\n",
      "日報表105.07.14.xls\n",
      "日報表105.07.15.xls\n",
      "日報表105.07.16.xls\n",
      "日報表105.07.17.xls\n"
     ]
    }
   ],
   "source": [
    "# import os\n",
    "\n",
    "# cur_path = os.getcwd() #得知目前路徑\n",
    "# for subdir, dirs, files in os.walk(cur_path): \n",
    "#     if \n",
    "#     for file in files:\n",
    "#         print file\n",
    "#             # 得到檔案名稱 file\n",
    "            \n",
    "            \n",
    "            \n",
    "            \n",
    "            \n",
    "import os\n",
    "files = []\n",
    "\n",
    "for f in os.listdir('.'):\n",
    "        if os.path.isfile(f):\n",
    "                files.append(f)\n",
    "for f in files:\n",
    "    if '日報表' in f:\n",
    "        print f"
   ]
  },
  {
   "cell_type": "code",
   "execution_count": null,
   "metadata": {
    "collapsed": true
   },
   "outputs": [],
   "source": []
  },
  {
   "cell_type": "code",
   "execution_count": 45,
   "metadata": {
    "collapsed": false
   },
   "outputs": [],
   "source": [
    "import os\n",
    "files = []\n",
    "\n",
    "for f in os.listdir('.'):\n",
    "        if os.path.isfile(f):\n",
    "                files.append(f)\n",
    "for f in files:\n",
    "    if '日報表' in f:\n",
    "        import xlrd,xlwt\n",
    "        wbk = xlwt.Workbook()\n",
    "        # \n",
    "        data = xlrd.open_workbook(f)\n",
    "        sheet = wbk.add_sheet('sheet1',cell_overwrite_ok=True)\n",
    "\n",
    "        # ---------設定字的格式\n",
    "\n",
    "        def set_style(name,height,bold=False):\n",
    "            style = xlwt.XFStyle() # 初始化样式\n",
    "\n",
    "            font = xlwt.Font() # 为样式创建字体\n",
    "            font.name = name # 'Times New Roman'\n",
    "            font.bold = bold\n",
    "            font.color_index = 4\n",
    "            font.height = height\n",
    "\n",
    "            # borders= xlwt.Borders()\n",
    "            # borders.left= 6\n",
    "            # borders.right= 6\n",
    "            # borders.top= 6\n",
    "            # borders.bottom= 6\n",
    "\n",
    "            style.font = font  # style.borders = borders\n",
    "\n",
    "            return style\n",
    "\n",
    "\n",
    "\n",
    "\n",
    "        # ---------\n",
    "\n",
    "\n",
    "        table = data.sheets()[1]\n",
    "        j=0\n",
    "        for i in range(775,781):\n",
    "\n",
    "            rows = table.row_values(i)\n",
    "            j+=1\n",
    "            for ele in range(0,len(rows)):\n",
    "                sheet.write(j-1,ele,rows[ele],set_style('Times News Roman',200,True))\n",
    "\n",
    "\n",
    "        for k in range(1252,1303):\n",
    "            rows = table.row_values(k)\n",
    "            j+=1\n",
    "            for ele in range(0,len(rows)):\n",
    "                sheet.write(j-1,ele,rows[ele],set_style('Times News Roman',200,True))\n",
    "\n",
    "\n",
    "\n",
    "\n",
    "\n",
    "\n",
    "        # print len(rows)\n",
    "        # for ele in rows:\n",
    "        #     print ele\n",
    "\n",
    "\n",
    "\n",
    "\n",
    "\n",
    "\n",
    "\n",
    "\n",
    "\n",
    "        # sheet.write(0,1,table)\n",
    "        wbk.save('okay/'+f)\n",
    "\n",
    "\n"
   ]
  },
  {
   "cell_type": "code",
   "execution_count": null,
   "metadata": {
    "collapsed": true
   },
   "outputs": [],
   "source": []
  }
 ],
 "metadata": {
  "anaconda-cloud": {},
  "kernelspec": {
   "display_name": "Python [Root]",
   "language": "python",
   "name": "Python [Root]"
  },
  "language_info": {
   "codemirror_mode": {
    "name": "ipython",
    "version": 2
   },
   "file_extension": ".py",
   "mimetype": "text/x-python",
   "name": "python",
   "nbconvert_exporter": "python",
   "pygments_lexer": "ipython2",
   "version": "2.7.12"
  }
 },
 "nbformat": 4,
 "nbformat_minor": 0
}
