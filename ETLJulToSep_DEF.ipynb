{
 "cells": [
  {
   "cell_type": "code",
   "execution_count": null,
   "metadata": {
    "collapsed": true
   },
   "outputs": [],
   "source": [
    "# ---------設定字的格式\n",
    "def set_style(name,height,bold=False):\n",
    "    import xlwt\n",
    "    style = xlwt.XFStyle() # 初始化样式\n",
    "    font = xlwt.Font() # 为样式创建字体                    \n",
    "    font.name = name # 'Times New Roman'\n",
    "    font.bold = bold\n",
    "    font.color_index = 4\n",
    "    font.height = height\n",
    "    # borders= xlwt.Borders()\n",
    "    # borders.left= 6\n",
    "    # borders.right= 6\n",
    "    # borders.top= 6\n",
    "    # borders.bottom= 6\n",
    "    style.font = font  # style.borders = borders\n",
    "    return style\n",
    "# ---------"
   ]
  },
  {
   "cell_type": "code",
   "execution_count": null,
   "metadata": {
    "collapsed": true
   },
   "outputs": [],
   "source": [
    "#讀取北市Excel資料只抓出我所設定之內湖區的街道資料\n",
    "def julToSepNeihu():\n",
    "    import os\n",
    "    files = []\n",
    "    for f in os.listdir('.'):\n",
    "            if os.path.isfile(f):\n",
    "                    files.append(f)\n",
    "    for f in files:\n",
    "        if '日報表' in f:\n",
    "            import xlrd,xlwt\n",
    "            wbk = xlwt.Workbook()\n",
    "            # \n",
    "            data = xlrd.open_workbook(f)\n",
    "            sheet = wbk.add_sheet('sheet1',cell_overwrite_ok=True)\n",
    "            table = data.sheet_by_name(u'日報表詳表')  #以名字去找表\n",
    "            j=0\n",
    "            for i in range(775,781):\n",
    "                rows = table.row_values(i)\n",
    "                j+=1\n",
    "                for ele in range(0,len(rows)):\n",
    "                    sheet.write(j-1,ele,rows[ele],set_style('Times News Roman',200,True))\n",
    "            for k in range(1252,1303):\n",
    "                rows = table.row_values(k)\n",
    "                j+=1\n",
    "                for ele in range(0,len(rows)):\n",
    "                    sheet.write(j-1,ele,rows[ele],set_style('Times News Roman',200,True))              \n",
    "            sheet.write(j,5,\"=SUM(F1:F57)\")\n",
    "            # print len(rows)\n",
    "            # for ele in rows:\n",
    "            #     print ele\n",
    "            # sheet.write(0,1,table)\n",
    "            wbk.save('okay/'+f)"
   ]
  },
  {
   "cell_type": "code",
   "execution_count": 8,
   "metadata": {
    "collapsed": false
   },
   "outputs": [],
   "source": [
    "julToSepNeihu()"
   ]
  },
  {
   "cell_type": "code",
   "execution_count": null,
   "metadata": {
    "collapsed": true
   },
   "outputs": [],
   "source": []
  },
  {
   "cell_type": "code",
   "execution_count": 11,
   "metadata": {
    "collapsed": true
   },
   "outputs": [],
   "source": [
    "#  把抓出來的內湖區的資料，取檔案日期跟當日所有路段的當量做總和，在寫成一個csv檔\n",
    "def dateAndVolume09():\n",
    "    # -*- coding: utf-8 -*-\n",
    "    import os,re\n",
    "    import csv\n",
    "    newcsv = open('total.csv','w')\n",
    "    files = []\n",
    "    for f in os.listdir('.'):\n",
    "        files.append(f)\n",
    "    for f in files:\n",
    "            if '日報表' in f:\n",
    "                import xlrd,xlwt\n",
    "                wbk = xlwt.Workbook()\n",
    "                data = xlrd.open_workbook('okay/'+f)#讀取內湖區的檔案並作加總\n",
    "                table = data.sheets()[0]\n",
    "                cols = table.col_values(5)\n",
    "                sumall = 0\n",
    "                for i in range(0,len(cols)-1):\n",
    "    #                 print cols[i]\n",
    "                    sumall += float(cols[i])\n",
    "                match = re.findall('[0-9]+.[0-9]+.[0-9]+',f)\n",
    "#                 print str(match[0]) , str(sumall)\n",
    "                newcsv.write(str(match[0])+','+str(sumall)+'\\n')\n",
    "    newcsv.close()\n"
   ]
  },
  {
   "cell_type": "code",
   "execution_count": 12,
   "metadata": {
    "collapsed": false
   },
   "outputs": [
    {
     "name": "stdout",
     "output_type": "stream",
     "text": [
      "105.07.19 303131.553258\n",
      "105.07.20 299682.549315\n",
      "105.07.21 313938.105726\n",
      "105.07.22 319431.173228\n",
      "105.07.23 243435.448368\n",
      "105.07.24 214527.11758\n",
      "105.07.25 299335.192621\n",
      "105.07.26 303078.32459\n",
      "105.07.27 309322.025392\n",
      "105.07.28 308837.769061\n",
      "105.07.29 307587.114772\n",
      "105.07.30 247211.590775\n",
      "105.07.31 213969.035176\n",
      "105.08.01 277838.285954\n",
      "105.08.02 304216.695165\n",
      "105.08.03 296482.299021\n",
      "105.08.04 292246.915985\n",
      "105.08.05 306558.167264\n",
      "105.08.07 217602.811615\n",
      "105.08.10 282154.659821\n",
      "105.08.11 309537.410503\n",
      "105.08.12 308603.883169\n",
      "105.08.13 246501.283414\n",
      "105.08.14 217137.012334\n",
      "105.08.15 308629.874534\n",
      "105.08.16 319039.641545\n",
      "105.08.17 283535.978475\n",
      "105.08.18 286181.19093\n",
      "105.08.19 333631.413825\n",
      "105.08.20 243078.533691\n",
      "105.08.21 226440.076877\n",
      "105.08.22 278935.436438\n",
      "105.08.23 310672.874601\n",
      "105.08.24 319305.344317\n",
      "105.08.25 310812.704817\n",
      "105.08.26 331235.138109\n",
      "105.08.27 254468.042773\n",
      "105.08.28 225958.379356\n",
      "105.08.29 316185.400321\n",
      "105.08.30 325115.878572\n",
      "105.08.31 327462.519029\n",
      "105.09.01 329501.828389\n",
      "105.09.02 333788.525248\n",
      "105.09.03 272721.474138\n",
      "105.09.04 232994.040029\n",
      "105.09.05 324827.429924\n",
      "105.09.06 323822.688755\n",
      "105.09.07 336149.704651\n",
      "105.09.10 323378.499995\n",
      "105.09.11 238494.796066\n",
      "105.09.12 343636.931309\n",
      "105.09.13 356269.001628\n",
      "105.09.14 343405.908463\n",
      "105.09.15 211186.400877\n",
      "105.09.16 214911.843933\n",
      "105.09.17 159769.288289\n",
      "105.09.18 209866.029314\n"
     ]
    }
   ],
   "source": [
    "dateAndVolume09()"
   ]
  },
  {
   "cell_type": "code",
   "execution_count": null,
   "metadata": {
    "collapsed": true
   },
   "outputs": [],
   "source": []
  }
 ],
 "metadata": {
  "kernelspec": {
   "display_name": "Python [Root]",
   "language": "python",
   "name": "Python [Root]"
  },
  "language_info": {
   "codemirror_mode": {
    "name": "ipython",
    "version": 2
   },
   "file_extension": ".py",
   "mimetype": "text/x-python",
   "name": "python",
   "nbconvert_exporter": "python",
   "pygments_lexer": "ipython2",
   "version": "2.7.12"
  }
 },
 "nbformat": 4,
 "nbformat_minor": 0
}
